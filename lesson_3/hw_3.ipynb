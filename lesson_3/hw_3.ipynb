{
 "cells": [
  {
   "metadata": {},
   "cell_type": "markdown",
   "source": [
    "Условие: есть набор данных о продажах продуктов с информацией о дате продаж, категории продукта, количестве и выручке от продаж.\n",
    "\n",
    "Используя Apache Spark, загрузите предоставленный набор данных в DataFrame (пример данных ниже).\n",
    "\n",
    "```\n",
    "(\"2023-11-20\", \"Electronics\", 100, 12000),\n",
    "(\"2023-11-21\", \"Electronics\", 110, 13000),\n",
    "(\"2023-11-22\", \"Electronics\", 105, 12500),\n",
    "(\"2023-11-20\", \"Clothing\", 300, 15000),\n",
    "(\"2023-11-21\", \"Clothing\", 280, 14000),\n",
    "(\"2023-11-22\", \"Clothing\", 320, 16000),\n",
    "(\"2023-11-20\", \"Books\", 150, 9000),\n",
    "(\"2023-11-21\", \"Books\", 200, 12000),\n",
    "(\"2023-11-22\", \"Books\", 180, 10000)\n",
    "```\n",
    "Столбцы: \"date\", \"category\", \"quantity\", \"revenue\".\n",
    "\n",
    "С использованием оконных функций, рассчитайте среднее выручки от продаж для каждой категории продукта.\n",
    "Примените операцию pivot для того, чтобы преобразовать полученные данные таким образом, чтобы в качестве строк были категории продуктов, в качестве столбцов были дни, а значениями были средние значения выручки от продаж за соответствующий день"
   ],
   "id": "cc19a216516886e4"
  },
  {
   "metadata": {
    "ExecuteTime": {
     "end_time": "2024-06-04T10:17:57.169779Z",
     "start_time": "2024-06-04T10:16:28.047384Z"
    }
   },
   "cell_type": "code",
   "source": [
    "from pyspark.sql import SparkSession\n",
    "from pyspark.sql.functions import avg\n",
    "\n",
    "spark = SparkSession.builder.appName(\"pivot_pyspark_pandas\").getOrCreate()\n",
    "\n",
    "data = [\n",
    "    (\"2023-11-20\", \"Electronics\", 100, 12000),\n",
    "    (\"2023-11-21\", \"Electronics\", 110, 13000),\n",
    "    (\"2023-11-22\", \"Electronics\", 105, 12500),\n",
    "    (\"2023-11-20\", \"Clothing\", 300, 15000),\n",
    "    (\"2023-11-21\", \"Clothing\", 280, 14000),\n",
    "    (\"2023-11-22\", \"Clothing\", 320, 16000),\n",
    "    (\"2023-11-20\", \"Books\", 150, 9000),\n",
    "    (\"2023-11-21\", \"Books\", 200, 12000),\n",
    "    (\"2023-11-22\", \"Books\", 180, 10000),\n",
    "]\n",
    "\n",
    "df = spark.createDataFrame(data, [\"date\", \"category\", \"quantity\", \"revenue\"])\n",
    "\n",
    "df.show()"
   ],
   "id": "45cbfba7af2fd354",
   "outputs": [
    {
     "name": "stdout",
     "output_type": "stream",
     "text": [
      "+----------+-----------+--------+-------+\n",
      "|      date|   category|quantity|revenue|\n",
      "+----------+-----------+--------+-------+\n",
      "|2023-11-20|Electronics|     100|  12000|\n",
      "|2023-11-21|Electronics|     110|  13000|\n",
      "|2023-11-22|Electronics|     105|  12500|\n",
      "|2023-11-20|   Clothing|     300|  15000|\n",
      "|2023-11-21|   Clothing|     280|  14000|\n",
      "|2023-11-22|   Clothing|     320|  16000|\n",
      "|2023-11-20|      Books|     150|   9000|\n",
      "|2023-11-21|      Books|     200|  12000|\n",
      "|2023-11-22|      Books|     180|  10000|\n",
      "+----------+-----------+--------+-------+\n",
      "\n"
     ]
    }
   ],
   "execution_count": 1
  },
  {
   "metadata": {
    "ExecuteTime": {
     "end_time": "2024-06-04T10:20:09.318398Z",
     "start_time": "2024-06-04T10:17:57.172792Z"
    }
   },
   "cell_type": "code",
   "source": [
    "pivot_df = df.groupBy(\"category\").pivot(\"date\").agg(avg(\"revenue\"))\n",
    "pivot_df.show()"
   ],
   "id": "1337d18215f1b3c8",
   "outputs": [
    {
     "name": "stdout",
     "output_type": "stream",
     "text": [
      "+-----------+----------+----------+----------+\n",
      "|   category|2023-11-20|2023-11-21|2023-11-22|\n",
      "+-----------+----------+----------+----------+\n",
      "|Electronics|   12000.0|   13000.0|   12500.0|\n",
      "|   Clothing|   15000.0|   14000.0|   16000.0|\n",
      "|      Books|    9000.0|   12000.0|   10000.0|\n",
      "+-----------+----------+----------+----------+\n",
      "\n"
     ]
    }
   ],
   "execution_count": 2
  },
  {
   "metadata": {},
   "cell_type": "markdown",
   "source": "pandas",
   "id": "6c6125bad35ab528"
  },
  {
   "metadata": {
    "ExecuteTime": {
     "end_time": "2024-06-04T10:21:13.743210Z",
     "start_time": "2024-06-04T10:20:09.320473Z"
    }
   },
   "cell_type": "code",
   "source": "df_p = df.toPandas()",
   "id": "d11b3eda223f3174",
   "outputs": [],
   "execution_count": 3
  },
  {
   "metadata": {
    "ExecuteTime": {
     "end_time": "2024-06-04T10:21:13.777366Z",
     "start_time": "2024-06-04T10:21:13.747225Z"
    }
   },
   "cell_type": "code",
   "source": [
    "df_p.pivot_table(index=[\"category\"], columns=\"date\", values=\"revenue\", sort=False)"
   ],
   "id": "ca401ecfbcacaebc",
   "outputs": [
    {
     "data": {
      "text/plain": [
       "date         2023-11-20  2023-11-21  2023-11-22\n",
       "category                                       \n",
       "Electronics     12000.0     13000.0     12500.0\n",
       "Clothing        15000.0     14000.0     16000.0\n",
       "Books            9000.0     12000.0     10000.0"
      ],
      "text/html": [
       "<div>\n",
       "<style scoped>\n",
       "    .dataframe tbody tr th:only-of-type {\n",
       "        vertical-align: middle;\n",
       "    }\n",
       "\n",
       "    .dataframe tbody tr th {\n",
       "        vertical-align: top;\n",
       "    }\n",
       "\n",
       "    .dataframe thead th {\n",
       "        text-align: right;\n",
       "    }\n",
       "</style>\n",
       "<table border=\"1\" class=\"dataframe\">\n",
       "  <thead>\n",
       "    <tr style=\"text-align: right;\">\n",
       "      <th>date</th>\n",
       "      <th>2023-11-20</th>\n",
       "      <th>2023-11-21</th>\n",
       "      <th>2023-11-22</th>\n",
       "    </tr>\n",
       "    <tr>\n",
       "      <th>category</th>\n",
       "      <th></th>\n",
       "      <th></th>\n",
       "      <th></th>\n",
       "    </tr>\n",
       "  </thead>\n",
       "  <tbody>\n",
       "    <tr>\n",
       "      <th>Electronics</th>\n",
       "      <td>12000.0</td>\n",
       "      <td>13000.0</td>\n",
       "      <td>12500.0</td>\n",
       "    </tr>\n",
       "    <tr>\n",
       "      <th>Clothing</th>\n",
       "      <td>15000.0</td>\n",
       "      <td>14000.0</td>\n",
       "      <td>16000.0</td>\n",
       "    </tr>\n",
       "    <tr>\n",
       "      <th>Books</th>\n",
       "      <td>9000.0</td>\n",
       "      <td>12000.0</td>\n",
       "      <td>10000.0</td>\n",
       "    </tr>\n",
       "  </tbody>\n",
       "</table>\n",
       "</div>"
      ]
     },
     "execution_count": 4,
     "metadata": {},
     "output_type": "execute_result"
    }
   ],
   "execution_count": 4
  },
  {
   "metadata": {
    "ExecuteTime": {
     "end_time": "2024-06-04T10:21:13.783073Z",
     "start_time": "2024-06-04T10:21:13.779387Z"
    }
   },
   "cell_type": "code",
   "source": "",
   "id": "8b5cebe95dff493d",
   "outputs": [],
   "execution_count": 4
  },
  {
   "metadata": {
    "ExecuteTime": {
     "end_time": "2024-06-04T10:21:14.703210Z",
     "start_time": "2024-06-04T10:21:13.785089Z"
    }
   },
   "cell_type": "code",
   "source": "spark.stop()",
   "id": "138fe82ab293a67f",
   "outputs": [],
   "execution_count": 5
  }
 ],
 "metadata": {
  "kernelspec": {
   "display_name": "Python 3",
   "language": "python",
   "name": "python3"
  },
  "language_info": {
   "codemirror_mode": {
    "name": "ipython",
    "version": 2
   },
   "file_extension": ".py",
   "mimetype": "text/x-python",
   "name": "python",
   "nbconvert_exporter": "python",
   "pygments_lexer": "ipython2",
   "version": "2.7.6"
  }
 },
 "nbformat": 4,
 "nbformat_minor": 5
}
