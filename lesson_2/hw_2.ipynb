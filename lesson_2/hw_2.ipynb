{
 "cells": [
  {
   "metadata": {},
   "cell_type": "markdown",
   "source": "Условие: дана таблица с колонками (id, name, salary, managerId), студентам необходимо написать код на spark, который создаст эту таблицу (данные указаны ниже) и в результате выдаст таблицу в которой будут имена сотрудников, которые зарабатывают больше своих менеджеров.",
   "id": "980bcff238110041"
  },
  {
   "cell_type": "code",
   "id": "initial_id",
   "metadata": {
    "collapsed": true,
    "ExecuteTime": {
     "end_time": "2024-05-31T17:10:16.151472Z",
     "start_time": "2024-05-31T17:10:16.145931Z"
    }
   },
   "source": [
    "from pyspark.sql import SparkSession\n",
    "from pyspark.sql.functions import col\n",
    "from pyspark.sql.types import IntegerType, StringType, StructField, StructType"
   ],
   "outputs": [],
   "execution_count": 6
  },
  {
   "metadata": {
    "ExecuteTime": {
     "end_time": "2024-05-31T17:01:30.424455Z",
     "start_time": "2024-05-31T17:01:15.349296Z"
    }
   },
   "cell_type": "code",
   "source": "spark = SparkSession.builder.appName(\"employee_salary_analysis\").getOrCreate()",
   "id": "42129f081bace08a",
   "outputs": [],
   "execution_count": 2
  },
  {
   "metadata": {
    "ExecuteTime": {
     "end_time": "2024-05-31T17:18:01.356950Z",
     "start_time": "2024-05-31T17:16:49.599763Z"
    }
   },
   "cell_type": "code",
   "source": [
    "schema = StructType([\n",
    "    StructField(\"Id\", StringType(), nullable=False),\n",
    "    StructField(\"name\", StringType(), nullable=False),\n",
    "    StructField(\"Salary\", StringType(), nullable=True),\n",
    "    StructField(\"managerId\", StringType(), nullable=True)\n",
    "])\n",
    "\n",
    "users_data = [\n",
    "    (1, \"Joe\", 70, 3),\n",
    "    (2, \"Henry\", 80, 4),\n",
    "    (3, \"Sam\", 60, \"null\"),\n",
    "    (4, \"Max\", 90, \"Null\")\n",
    "]\n",
    "\n",
    "users_df = spark.createDataFrame(users_data, schema)\n",
    "users_df.show()"
   ],
   "id": "4e55e089aed64e7",
   "outputs": [
    {
     "name": "stdout",
     "output_type": "stream",
     "text": [
      "+---+-----+------+---------+\n",
      "| Id| name|Salary|managerId|\n",
      "+---+-----+------+---------+\n",
      "|  1|  Joe|    70|        3|\n",
      "|  2|Henry|    80|        4|\n",
      "|  3|  Sam|    60|     null|\n",
      "|  4|  Max|    90|     Null|\n",
      "+---+-----+------+---------+\n",
      "\n"
     ]
    }
   ],
   "execution_count": 10
  },
  {
   "metadata": {
    "ExecuteTime": {
     "end_time": "2024-05-31T17:19:19.347939Z",
     "start_time": "2024-05-31T17:18:07.186589Z"
    }
   },
   "cell_type": "code",
   "source": [
    "users_df = users_df.na.replace([\"null\", \"Null\"], [None, None], \"managerId\")\n",
    "users_df = users_df.toDF(*[c.lower() for c in users_df.columns])\n",
    "users_df.show()"
   ],
   "id": "876335772a242657",
   "outputs": [
    {
     "name": "stdout",
     "output_type": "stream",
     "text": [
      "+---+-----+------+---------+\n",
      "| id| name|salary|managerid|\n",
      "+---+-----+------+---------+\n",
      "|  1|  Joe|    70|        3|\n",
      "|  2|Henry|    80|        4|\n",
      "|  3|  Sam|    60|     NULL|\n",
      "|  4|  Max|    90|     NULL|\n",
      "+---+-----+------+---------+\n",
      "\n"
     ]
    }
   ],
   "execution_count": 11
  },
  {
   "metadata": {
    "ExecuteTime": {
     "end_time": "2024-05-31T17:24:21.876986Z",
     "start_time": "2024-05-31T17:23:09.676822Z"
    }
   },
   "cell_type": "code",
   "source": [
    "numerical_columns = [\"id\", \"salary\", \"managerid\"]\n",
    "\n",
    "for col_name in numerical_columns:\n",
    "    users_df = users_df.withColumn(col_name, col(col_name).cast(IntegerType()))\n",
    "\n",
    "users_df.show()\n"
   ],
   "id": "aac1c9f1516919eb",
   "outputs": [
    {
     "name": "stdout",
     "output_type": "stream",
     "text": [
      "+---+-----+------+---------+\n",
      "| id| name|salary|managerid|\n",
      "+---+-----+------+---------+\n",
      "|  1|  Joe|    70|        3|\n",
      "|  2|Henry|    80|        4|\n",
      "|  3|  Sam|    60|     NULL|\n",
      "|  4|  Max|    90|     NULL|\n",
      "+---+-----+------+---------+\n",
      "\n"
     ]
    }
   ],
   "execution_count": 12
  },
  {
   "metadata": {
    "ExecuteTime": {
     "end_time": "2024-05-31T17:26:56.387342Z",
     "start_time": "2024-05-31T17:26:56.379918Z"
    }
   },
   "cell_type": "code",
   "source": "users_df.printSchema()",
   "id": "bebb91ce94a0635c",
   "outputs": [
    {
     "name": "stdout",
     "output_type": "stream",
     "text": [
      "root\n",
      " |-- id: integer (nullable = true)\n",
      " |-- name: string (nullable = false)\n",
      " |-- salary: integer (nullable = true)\n",
      " |-- managerid: integer (nullable = true)\n",
      "\n"
     ]
    }
   ],
   "execution_count": 14
  },
  {
   "metadata": {
    "ExecuteTime": {
     "end_time": "2024-05-31T17:35:11.963562Z",
     "start_time": "2024-05-31T17:32:49.898920Z"
    }
   },
   "cell_type": "code",
   "source": [
    "joined_df = users_df.alias(\"emp\").join(\n",
    "    users_df.alias(\"mgr\"),\n",
    "    col(\"emp.managerid\") == col(\"mgr.id\"),\n",
    "    \"inner\"\n",
    ")\n",
    "joined_df.show()"
   ],
   "id": "fb4157ad6313c322",
   "outputs": [
    {
     "name": "stdout",
     "output_type": "stream",
     "text": [
      "+---+-----+------+---------+---+----+------+---------+\n",
      "| id| name|salary|managerid| id|name|salary|managerid|\n",
      "+---+-----+------+---------+---+----+------+---------+\n",
      "|  1|  Joe|    70|        3|  3| Sam|    60|     NULL|\n",
      "|  2|Henry|    80|        4|  4| Max|    90|     NULL|\n",
      "+---+-----+------+---------+---+----+------+---------+\n",
      "\n"
     ]
    }
   ],
   "execution_count": 18
  },
  {
   "metadata": {
    "ExecuteTime": {
     "end_time": "2024-05-31T17:39:32.546753Z",
     "start_time": "2024-05-31T17:36:56.872001Z"
    }
   },
   "cell_type": "code",
   "source": [
    "result_df = joined_df.select(\n",
    "    col(\"emp.name\").alias(\"employee_name\"),\n",
    "    col(\"emp.Salary\").alias(\"emp_salary\"),\n",
    "    col(\"mgr.Salary\").alias(\"mgr_salary\")\n",
    ").where(col(\"emp_salary\") > col(\"mgr_salary\"))\n",
    "\n",
    "result_df.select(\"employee_name\").show()\n",
    "\n",
    "spark.stop()"
   ],
   "id": "41e78bf26a6902bb",
   "outputs": [
    {
     "name": "stdout",
     "output_type": "stream",
     "text": [
      "+-------------+\n",
      "|employee_name|\n",
      "+-------------+\n",
      "|          Joe|\n",
      "+-------------+\n",
      "\n"
     ]
    }
   ],
   "execution_count": 19
  },
  {
   "metadata": {},
   "cell_type": "code",
   "outputs": [],
   "execution_count": null,
   "source": "",
   "id": "32469b3ab5e5e0f"
  }
 ],
 "metadata": {
  "kernelspec": {
   "display_name": "Python 3",
   "language": "python",
   "name": "python3"
  },
  "language_info": {
   "codemirror_mode": {
    "name": "ipython",
    "version": 2
   },
   "file_extension": ".py",
   "mimetype": "text/x-python",
   "name": "python",
   "nbconvert_exporter": "python",
   "pygments_lexer": "ipython2",
   "version": "2.7.6"
  }
 },
 "nbformat": 4,
 "nbformat_minor": 5
}
