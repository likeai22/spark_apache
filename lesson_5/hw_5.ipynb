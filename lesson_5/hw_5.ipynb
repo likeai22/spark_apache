{
 "cells": [
  {
   "metadata": {},
   "cell_type": "raw",
   "source": [
    "Урок 5. Spark on scala\n",
    "Условие: создайте csv файл с таким содержимым:\n",
    "\n",
    "title,author,genre,sales,year\n",
    "\"1984\", \"George Orwell\", \"Science Fiction\", 5000, 1949\n",
    "\"The Lord of the Rings\", \"J.R.R. Tolkien\", \"Fantasy\", 3000, 1954\n",
    "\"To Kill a Mockingbird\", \"Harper Lee\", \"Southern Gothic\", 4000, 1960\n",
    "\"The Catcher in the Rye\", \"J.D. Salinger\", \"Novel\", 2000, 1951\n",
    "\"The Great Gatsby\", \"F. Scott Fitzgerald\", \"Novel\", 4500, 1925\n",
    "\n",
    "Задание:\n",
    "\n",
    "— Используя Spark прочитайте данные из файла csv.\n",
    "— Фильтруйте данные, чтобы оставить только книги, продажи которых превышают 3000 экземпляров.\n",
    "— Сгруппируйте данные по жанру и вычислите общий объем продаж для каждого жанра.\n",
    "— Отсортируйте данные по общему объему продаж в порядке убывания.\n",
    "— Выведите результаты на экран.\n"
   ],
   "id": "85a2bc323d26bc00"
  },
  {
   "metadata": {
    "ExecuteTime": {
     "end_time": "2024-06-11T14:42:07.467304Z",
     "start_time": "2024-06-11T14:42:07.373311Z"
    }
   },
   "cell_type": "code",
   "source": [
    "import csv\n",
    "\n",
    "data = [\n",
    "    (\"title\", \"author\", \"genre\", \"sales\", \"year\"),\n",
    "    (\"1984\", \"George Orwell\", \"Science Fiction\", 5000, 1949),\n",
    "    (\"The Lord of the Rings\", \"J.R.R. Tolkien\", \"Fantasy\", 3000, 1954),\n",
    "    (\"To Kill a Mockingbird\", \"Harper Lee\", \"Southern Gothic\", 4000, 1960),\n",
    "    (\"The Catcher in the Rye\", \"J.D. Salinger\", \"Novel\", 2000, 1951),\n",
    "    (\"The Great Gatsby\", \"F. Scott Fitzgerald\", \"Novel\", 4500, 1925),\n",
    "]\n",
    "with open(\"data.csv\", \"w\", encoding=\"UTF-8\", newline=\"\") as f:\n",
    "    csv_writer = csv.writer(f)\n",
    "    csv_writer.writerows(data)"
   ],
   "id": "cbec28728fa55ffc",
   "outputs": [],
   "execution_count": 1
  },
  {
   "metadata": {
    "ExecuteTime": {
     "end_time": "2024-06-11T14:42:20.045265Z",
     "start_time": "2024-06-11T14:42:07.470324Z"
    }
   },
   "cell_type": "code",
   "source": [
    "from pyspark.sql.functions import col, sum\n",
    "from pyspark.sql import SparkSession\n",
    "\n",
    "spark = (SparkSession.builder.master(\"local[*]\").appName(\"Seminar 5\").getOrCreate())\n",
    "\n",
    "# — Используя Spark прочитайте данные из файла csv.\n",
    "df = spark.read.option(\"header\", \"true\").csv(\"data.csv\")\n",
    "df.show()"
   ],
   "id": "422e7b892b2125f8",
   "outputs": [
    {
     "name": "stdout",
     "output_type": "stream",
     "text": [
      "+--------------------+-------------------+---------------+-----+----+\n",
      "|               title|             author|          genre|sales|year|\n",
      "+--------------------+-------------------+---------------+-----+----+\n",
      "|                1984|      George Orwell|Science Fiction| 5000|1949|\n",
      "|The Lord of the R...|     J.R.R. Tolkien|        Fantasy| 3000|1954|\n",
      "|To Kill a Mocking...|         Harper Lee|Southern Gothic| 4000|1960|\n",
      "|The Catcher in th...|      J.D. Salinger|          Novel| 2000|1951|\n",
      "|    The Great Gatsby|F. Scott Fitzgerald|          Novel| 4500|1925|\n",
      "+--------------------+-------------------+---------------+-----+----+\n",
      "\n"
     ]
    }
   ],
   "execution_count": 2
  },
  {
   "metadata": {
    "ExecuteTime": {
     "end_time": "2024-06-11T14:42:20.435695Z",
     "start_time": "2024-06-11T14:42:20.049285Z"
    }
   },
   "cell_type": "code",
   "source": [
    "# — Фильтруйте данные, чтобы оставить только книги, продажи которых превышают 3000 экземпляров.\n",
    "df = df.withColumn(\"sales\", df[\"sales\"].cast(\"int\"))\n",
    "df = df.withColumn(\"year\", df[\"year\"].cast(\"int\"))\n",
    "filtered_sales = df.filter(col(\"sales\") > 3000)\n",
    "filtered_sales.show()"
   ],
   "id": "859492c068ff6aaa",
   "outputs": [
    {
     "name": "stdout",
     "output_type": "stream",
     "text": [
      "+--------------------+-------------------+---------------+-----+----+\n",
      "|               title|             author|          genre|sales|year|\n",
      "+--------------------+-------------------+---------------+-----+----+\n",
      "|                1984|      George Orwell|Science Fiction| 5000|1949|\n",
      "|To Kill a Mocking...|         Harper Lee|Southern Gothic| 4000|1960|\n",
      "|    The Great Gatsby|F. Scott Fitzgerald|          Novel| 4500|1925|\n",
      "+--------------------+-------------------+---------------+-----+----+\n",
      "\n"
     ]
    }
   ],
   "execution_count": 3
  },
  {
   "metadata": {
    "ExecuteTime": {
     "end_time": "2024-06-11T14:42:21.650215Z",
     "start_time": "2024-06-11T14:42:20.437748Z"
    }
   },
   "cell_type": "code",
   "source": [
    "# — Сгруппируйте данные по жанру и вычислите общий объем продаж для каждого жанра.\n",
    "grouped_genre = df.groupBy(col(\"genre\")).agg(sum(col(\"sales\")).alias(\"count_sales\"))\n",
    "grouped_genre.show()"
   ],
   "id": "1bd2293dff49aa3d",
   "outputs": [
    {
     "name": "stdout",
     "output_type": "stream",
     "text": [
      "+---------------+-----------+\n",
      "|          genre|count_sales|\n",
      "+---------------+-----------+\n",
      "|Southern Gothic|       4000|\n",
      "|          Novel|       6500|\n",
      "|        Fantasy|       3000|\n",
      "|Science Fiction|       5000|\n",
      "+---------------+-----------+\n",
      "\n"
     ]
    }
   ],
   "execution_count": 4
  },
  {
   "metadata": {
    "ExecuteTime": {
     "end_time": "2024-06-11T14:42:22.167054Z",
     "start_time": "2024-06-11T14:42:21.654232Z"
    }
   },
   "cell_type": "code",
   "source": [
    "# — Отсортируйте данные по общему объему продаж в порядке убывания.\n",
    "grouped_genre.orderBy(col(\"count_sales\").desc()).show()"
   ],
   "id": "9bc447e0f97f609d",
   "outputs": [
    {
     "name": "stdout",
     "output_type": "stream",
     "text": [
      "+---------------+-----------+\n",
      "|          genre|count_sales|\n",
      "+---------------+-----------+\n",
      "|          Novel|       6500|\n",
      "|Science Fiction|       5000|\n",
      "|Southern Gothic|       4000|\n",
      "|        Fantasy|       3000|\n",
      "+---------------+-----------+\n",
      "\n"
     ]
    }
   ],
   "execution_count": 5
  },
  {
   "metadata": {
    "ExecuteTime": {
     "end_time": "2024-06-11T14:42:22.791597Z",
     "start_time": "2024-06-11T14:42:22.169133Z"
    }
   },
   "cell_type": "code",
   "source": "spark.stop()",
   "id": "514abe1f34532ebe",
   "outputs": [],
   "execution_count": 6
  }
 ],
 "metadata": {
  "kernelspec": {
   "display_name": "Python 3",
   "language": "python",
   "name": "python3"
  },
  "language_info": {
   "codemirror_mode": {
    "name": "ipython",
    "version": 2
   },
   "file_extension": ".py",
   "mimetype": "text/x-python",
   "name": "python",
   "nbconvert_exporter": "python",
   "pygments_lexer": "ipython2",
   "version": "2.7.6"
  }
 },
 "nbformat": 4,
 "nbformat_minor": 5
}
